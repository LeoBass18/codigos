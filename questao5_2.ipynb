{
 "cells": [
  {
   "cell_type": "code",
   "execution_count": null,
   "id": "345cf3da",
   "metadata": {},
   "outputs": [],
   "source": [
    "import requests\n",
    "from bs4 import BeautifulSoup\n",
    "\n",
    "# URL do site alvo\n",
    "url = \"https://www.imdb.com/chart/top/\"\n",
    "\n",
    "# Realizar a requisição GET para obter o conteúdo da página\n",
    "response = requests.get(url)\n",
    "\n",
    "# Verificar se a requisição foi bem-sucedida\n",
    "if response.status_code == 200:\n",
    "    # Criar um objeto BeautifulSoup com o conteúdo HTML\n",
    "    soup = BeautifulSoup(response.content, 'html.parser')\n",
    "\n",
    "    # Encontrar todos os elementos que contêm informações dos filmes\n",
    "    filmes = soup.find_all(\"td\", class_=\"titleColumn\")\n",
    "\n",
    "    # Iterar sobre os elementos dos filmes e extrair as informações desejadas\n",
    "    for filme in filmes:\n",
    "        # Título do filme\n",
    "        title = filme.a.text\n",
    "        \n",
    "        # Classificação IMDb do filme\n",
    "        classification_element = filme.find_next_sibling(\"td\").find(\"strong\")\n",
    "        classification = classification_element.text if classification_element else \"N/A\"\n",
    "\n",
    "        # Exibir as informações do filme\n",
    "        print(\"Título:\", title)\n",
    "        print(\"Classificação IMDb:\", classification)\n",
    "        print(\"----------------------------------------\")\n",
    "else:\n",
    "    print(\"Falha ao acessar o site:\", response.status_code)\n"
   ]
  }
 ],
 "metadata": {
  "kernelspec": {
   "display_name": "Python 3 (ipykernel)",
   "language": "python",
   "name": "python3"
  },
  "language_info": {
   "codemirror_mode": {
    "name": "ipython",
    "version": 3
   },
   "file_extension": ".py",
   "mimetype": "text/x-python",
   "name": "python",
   "nbconvert_exporter": "python",
   "pygments_lexer": "ipython3",
   "version": "3.10.9"
  }
 },
 "nbformat": 4,
 "nbformat_minor": 5
}
