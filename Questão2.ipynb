{
 "cells": [
  {
   "cell_type": "code",
   "execution_count": 4,
   "id": "01c218ac",
   "metadata": {},
   "outputs": [
    {
     "name": "stdout",
     "output_type": "stream",
     "text": [
      "Título: IdeaTab A8-50\n",
      "Descrição: Blue, 8\" IPS, Quad-Core 1.3GHz, 16GB, Android 4.2\n",
      "Preço: $121.99\n",
      "Link: https://webscraper.io/test-sites/e-commerce/allinone/product/28\n",
      "----------------------------------------\n",
      "Título: Inspiron 15\n",
      "Descrição: Moon Silver, 15.6\", Core i7-4510U, 8GB, 1TB, Radeon HD R7 M265 2GB,\n",
      "Preço: $745.99\n",
      "Link: https://webscraper.io/test-sites/e-commerce/allinone/product/39\n",
      "----------------------------------------\n",
      "Título: MSI GL72M 7RDX\n",
      "Descrição: MSI GL72M 7RDX, 17.3\" FHD, Core i5-7300HQ, 8GB, 1TB + 128GB SSD, GeForce GTX 1050 2GB, Windows 10 Home\n",
      "Preço: $1099\n",
      "Link: https://webscraper.io/test-sites/e-commerce/allinone/product/96\n",
      "----------------------------------------\n"
     ]
    }
   ],
   "source": [
    "import requests\n",
    "from bs4 import BeautifulSoup\n",
    "\n",
    "# URL do site alvo\n",
    "url = \"https://webscraper.io/test-sites/e-commerce/allinone\"\n",
    "\n",
    "# Realizar a requisição GET para obter o conteúdo da página\n",
    "response = requests.get(url)\n",
    "\n",
    "# Verificar se a requisição foi bem-sucedida\n",
    "if response.status_code == 200:\n",
    "    # Criar um objeto BeautifulSoup com o conteúdo HTML\n",
    "    soup = BeautifulSoup(response.content, 'html.parser')\n",
    "\n",
    "    # Encontrar todos os elementos que contêm informações dos produtos\n",
    "    products = soup.find_all(\"div\", class_=\"thumbnail\")\n",
    "\n",
    "    # Iterar sobre os elementos dos produtos e extrair as informações desejadas\n",
    "    for product in products:\n",
    "        # Título do produto\n",
    "        title = product.find(\"a\", class_=\"title\").text.strip()\n",
    "        \n",
    "        # Descrição do produto\n",
    "        description = product.find(\"p\", class_=\"description\").text.strip()\n",
    "        \n",
    "        # Preço do produto\n",
    "        price = product.find(\"h4\", class_=\"price\").text.strip()\n",
    "        \n",
    "        # Link do produto\n",
    "        link = product.find(\"a\", class_=\"title\")[\"href\"]\n",
    "        \n",
    "        # Exibir as informações do produto\n",
    "        print(\"Título:\", title)\n",
    "        print(\"Descrição:\", description)\n",
    "        print(\"Preço:\", price)\n",
    "        print(\"Link:\", f\"https://webscraper.io{link}\")\n",
    "        print(\"----------------------------------------\")\n",
    "else:\n",
    "    print(\"Falha ao acessar o site:\", response.status_code)\n"
   ]
  },
  {
   "cell_type": "code",
   "execution_count": 5,
   "id": "1682909a",
   "metadata": {},
   "outputs": [
    {
     "name": "stdout",
     "output_type": "stream",
     "text": [
      "Título: Dell Latitude...\n",
      "Descrição: Dell Latitude 5280, 12.5\" HD, Core i5-7300U, 8GB, 256GB SSD, Windows 10 Pro\n",
      "Preço: $1102.66\n",
      "Link: /test-sites/e-commerce/allinone/product/99\n",
      "----------------------------------------\n",
      "Título: Dell Latitude...\n",
      "Descrição: Dell Latitude 5580, 15.6\" FHD, Core i7-7600U, 16GB, 256GB SSD, GeForce GT930MX, Linux\n",
      "Preço: $1341.22\n",
      "Link: /test-sites/e-commerce/allinone/product/141\n",
      "----------------------------------------\n",
      "Título: Galaxy Note\n",
      "Descrição: 10.1\", 3G, Android 4.0, Garnet Red\n",
      "Preço: $399.99\n",
      "Link: /test-sites/e-commerce/allinone/product/29\n",
      "----------------------------------------\n"
     ]
    }
   ],
   "source": [
    "import requests\n",
    "from bs4 import BeautifulSoup\n",
    "\n",
    "# URL do site alvo\n",
    "url = \"https://webscraper.io/test-sites/e-commerce/allinone\"\n",
    "\n",
    "# Realizar a requisição GET para obter o conteúdo da página\n",
    "response = requests.get(url)\n",
    "\n",
    "# Verificar se a requisição foi bem-sucedida\n",
    "if response.status_code == 200:\n",
    "    # Criar um objeto BeautifulSoup com o conteúdo HTML\n",
    "    soup = BeautifulSoup(response.content, 'html.parser')\n",
    "\n",
    "    # Encontrar todos os elementos que contêm informações dos produtos\n",
    "    products = soup.find_all(\"div\", class_=\"thumbnail\")\n",
    "\n",
    "    # Iterar sobre os elementos dos produtos e extrair as informações desejadas\n",
    "    for product in products:\n",
    "        # Título do produto\n",
    "        title = product.find(\"a\", class_=\"title\").text.strip()\n",
    "        \n",
    "        # Descrição do produto\n",
    "        description = product.find(\"p\", class_=\"description\").text.strip()\n",
    "        \n",
    "        # Preço do produto\n",
    "        price = product.find(\"h4\", class_=\"float-end price card-title pull-right\").text.strip()\n",
    "        \n",
    "        # Link do produto\n",
    "        link = product.find(\"a\", class_=\"title\")[\"href\"]\n",
    "        \n",
    "        # Exibir as informações do produto\n",
    "        print(\"Título:\", title)\n",
    "        print(\"Descrição:\", description)\n",
    "        print(\"Preço:\", price)\n",
    "        print(\"Link:\", link)\n",
    "        print(\"----------------------------------------\")\n",
    "else:\n",
    "    print(\"Falha ao acessar o site:\", response.status_code)\n"
   ]
  },
  {
   "cell_type": "code",
   "execution_count": null,
   "id": "1d5f79e5",
   "metadata": {},
   "outputs": [],
   "source": []
  }
 ],
 "metadata": {
  "kernelspec": {
   "display_name": "Python 3 (ipykernel)",
   "language": "python",
   "name": "python3"
  },
  "language_info": {
   "codemirror_mode": {
    "name": "ipython",
    "version": 3
   },
   "file_extension": ".py",
   "mimetype": "text/x-python",
   "name": "python",
   "nbconvert_exporter": "python",
   "pygments_lexer": "ipython3",
   "version": "3.10.9"
  }
 },
 "nbformat": 4,
 "nbformat_minor": 5
}
