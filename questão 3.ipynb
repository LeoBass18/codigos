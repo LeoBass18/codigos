{
 "cells": [
  {
   "cell_type": "code",
   "execution_count": null,
   "id": "de3e9b83",
   "metadata": {},
   "outputs": [],
   "source": [
    "import os\n",
    "import requests\n",
    "from bs4 import BeautifulSoup\n",
    "import wget\n",
    "\n",
    "# URL do site alvo\n",
    "url = \"https://unsplash.com/pt-br/s/fotografias/cachorro\"\n",
    "\n",
    "# Pasta onde as imagens serão salvas\n",
    "diretorio_destino = \"imagens_cachorros_2\"\n",
    "\n",
    "# Criar o diretório de destino se ele não existir\n",
    "if not os.path.exists(diretorio_destino):\n",
    "    os.makedirs(diretorio_destino)\n",
    "\n",
    "# Realizar a requisição GET para obter o conteúdo da página\n",
    "response = requests.get(url)\n",
    "\n",
    "# Verificar se a requisição foi bem-sucedida\n",
    "if response.status_code == 200:\n",
    "    # Criar um objeto BeautifulSoup com o conteúdo HTML\n",
    "    soup = BeautifulSoup(response.content, 'html.parser')\n",
    "\n",
    "    # Encontrar todos os elementos que contêm informações das imagens\n",
    "    imagens = soup.find_all(\"img\")\n",
    "\n",
    "    # Iterar sobre os elementos das imagens e extrair os links\n",
    "    for i, imagem in enumerate(imagens):\n",
    "        # Link da imagem\n",
    "        imagem_link = imagem[\"src\"]\n",
    "        \n",
    "        # Verificar se o link é uma URL HTTP ou HTTPS\n",
    "        if imagem_link.startswith(\"http://\") or imagem_link.startswith(\"https://\"):\n",
    "            # Caminho onde a imagem será salva\n",
    "            caminho_imagem = os.path.join(diretorio_destino, f\"imagem_{i+1}.jpg\")\n",
    "            \n",
    "            # Fazer o download da imagem usando wget\n",
    "            wget.download(imagem_link, caminho_imagem)\n",
    "            \n",
    "            print(f\"Imagem {i+1} salva com sucesso.\")\n",
    "else:\n",
    "    print(\"Falha ao acessar o site:\", response.status_code)\n"
   ]
  }
 ],
 "metadata": {
  "kernelspec": {
   "display_name": "Python 3 (ipykernel)",
   "language": "python",
   "name": "python3"
  },
  "language_info": {
   "codemirror_mode": {
    "name": "ipython",
    "version": 3
   },
   "file_extension": ".py",
   "mimetype": "text/x-python",
   "name": "python",
   "nbconvert_exporter": "python",
   "pygments_lexer": "ipython3",
   "version": "3.10.9"
  }
 },
 "nbformat": 4,
 "nbformat_minor": 5
}
