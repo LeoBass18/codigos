from bs4 import BeautifulSoup
from selenium import webdriver
import csv

# URL do site alvo
url = "https://www.imdb.com/chart/top/"

# Inicializar o driver do Selenium
driver = webdriver.Chrome()
driver.get(url)

# Criar um objeto BeautifulSoup com o conteúdo HTML da página
soup = BeautifulSoup(driver.page_source, 'html.parser')

# Encontrar todos os elementos que contêm informações dos filmes
movies = soup.find_all("li", class_="ipc-metadata-list-summary-item sc-10233bc-0 iherUv cli-parent")

# Definir o nome do arquivo CSV
csv_filename = "top_movies.csv"

# Abrir o arquivo CSV para escrita
with open(csv_filename, mode='w', newline='', encoding='utf-8-sig') as file:
    writer = csv.writer(file)
    header = ['Filme', 'Avaliação']
    writer.writerow(header)

    # Iterar sobre os elementos dos filmes e extrair as informações desejadas
    for movie in movies:
        # Título do filme
        title = movie.find("a", class_="ipc-title-link-wrapper").text.strip()
        
        # Avaliação do filme
        rating_container = movie.find("div", class_="sc-e2dbc1a3-0 ajrIH sc-b189961a-2 fkPBP cli-ratings-container").span.text.strip()
        rating = rating_container[:3]
    
        writer.writerow([title, rating])
    
        # Exibir as informações do filme
    print("As informações foram salvas no arquivo", csv_filename)
        
# Fechar o navegador após a conclusão
driver.quit()
