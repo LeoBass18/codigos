{
 "cells": [
  {
   "cell_type": "code",
   "execution_count": 6,
   "id": "01c218ac",
   "metadata": {},
   "outputs": [
    {
     "name": "stdout",
     "output_type": "stream",
     "text": [
      "Falha ao acessar o site: 403\n"
     ]
    }
   ],
   "source": [
    "import requests\n",
    "from bs4 import BeautifulSoup\n",
    "\n",
    "# URL do site alvo\n",
    "url = \"https://www.imdb.com/chart/top/?ref_=nv_mv_250\"\n",
    "\n",
    "# Realizar a requisição GET para obter o conteúdo da página\n",
    "response = requests.get(url)\n",
    "\n",
    "# Verificar se a requisição foi bem-sucedida\n",
    "if response.status_code == 200:\n",
    "    # Criar um objeto BeautifulSoup com o conteúdo HTML\n",
    "    soup = BeautifulSoup(response.content, 'html.parser')\n",
    "\n",
    "    # Encontrar todos os elementos que contêm informações dos produtos\n",
    "    products = soup.find_all(\"div\", class_=\"thumbnail\")\n",
    "\n",
    "    # Iterar sobre os elementos dos produtos e extrair as informações desejadas\n",
    "    for product in products:\n",
    "        # Título do produto\n",
    "        title = product.find(\"h3\", class_=\"ipc-title__text\").text.strip()\n",
    "        \n",
    "        # Descrição do produto\n",
    "        classification = soup.find('span', class_='ipc-rating-star--base')\n",
    "\n",
    "        \n",
    "        \n",
    "        # Exibir as informações do produto\n",
    "        print(\"Título:\", title)\n",
    "        print(\"Descrição:\", classification)\n",
    "        print(\"----------------------------------------\")\n",
    "else:\n",
    "    print(\"Falha ao acessar o site:\", response.status_code)\n"
   ]
  },
  {
   "cell_type": "code",
   "execution_count": 7,
   "id": "1d5f79e5",
   "metadata": {},
   "outputs": [
    {
     "name": "stdout",
     "output_type": "stream",
     "text": [
      "Falha ao acessar o site: 403\n"
     ]
    }
   ],
   "source": []
  },
  {
   "cell_type": "code",
   "execution_count": null,
   "id": "00e2e4bc",
   "metadata": {},
   "outputs": [],
   "source": []
  }
 ],
 "metadata": {
  "kernelspec": {
   "display_name": "Python 3 (ipykernel)",
   "language": "python",
   "name": "python3"
  },
  "language_info": {
   "codemirror_mode": {
    "name": "ipython",
    "version": 3
   },
   "file_extension": ".py",
   "mimetype": "text/x-python",
   "name": "python",
   "nbconvert_exporter": "python",
   "pygments_lexer": "ipython3",
   "version": "3.10.9"
  }
 },
 "nbformat": 4,
 "nbformat_minor": 5
}
